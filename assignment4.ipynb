{
 "cells": [
  {
   "cell_type": "markdown",
   "id": "ee202d70",
   "metadata": {},
   "source": [
    "# Breast Cancer Classification using ML\n",
    "This notebook performs classification on the Breast Cancer dataset using:\n",
    "- Logistic Regression with L1 and L2 regularization\n",
    "- Support Vector Machines with linear and RBF kernels\n",
    "Evaluation includes ROC AUC, Accuracy, Precision, Recall, and F1-score.\n"
   ]
  },
  {
   "cell_type": "code",
   "execution_count": null,
   "id": "63bff55d",
   "metadata": {},
   "outputs": [],
   "source": [
    "import pandas as pd\n",
    "import numpy as np\n",
    "from sklearn.datasets import load_breast_cancer\n",
    "from sklearn.model_selection import train_test_split\n",
    "from sklearn.preprocessing import StandardScaler\n",
    "from sklearn.linear_model import LogisticRegression\n",
    "from sklearn.svm import SVC\n",
    "from sklearn.metrics import classification_report, confusion_matrix, roc_auc_score, RocCurveDisplay\n",
    "import matplotlib.pyplot as plt\n"
   ]
  },
  {
   "cell_type": "code",
   "execution_count": null,
   "id": "2d70c9fb",
   "metadata": {},
   "outputs": [],
   "source": [
    "#loading breast cancer dataset\n",
    "data = load_breast_cancer()\n",
    "X = pd.DataFrame(data.data, columns=data.feature_names)\n",
    "y = pd.Series(data.target)\n",
    "\n",
    "#Train-Test Split(80:20)\n",
    "X_train, X_test, y_train, y_test = train_test_split(X, y, test_size=0.2, random_state=42)\n",
    "\n",
    "#Feature Scaling\n",
    "scaler = StandardScaler()\n",
    "X_train_scaled = scaler.fit_transform(X_train)\n",
    "X_test_scaled = scaler.transform(X_test)\n"
   ]
  },
  {
   "cell_type": "code",
   "execution_count": null,
   "id": "960f42ab",
   "metadata": {},
   "outputs": [],
   "source": [
    "#Logistic Regression (L1 and L2)\n",
    "log_reg_l1 = LogisticRegression(penalty='l1', solver='liblinear', max_iter=1000)\n",
    "log_reg_l2 = LogisticRegression(penalty='l2', solver='liblinear', max_iter=1000)\n",
    "\n",
    "log_reg_l1.fit(X_train_scaled, y_train)\n",
    "log_reg_l2.fit(X_train_scaled, y_train)\n",
    "\n",
    "#Support Vector Machines (Linear and RBF)\n",
    "svc_linear = SVC(kernel='linear', probability=True)\n",
    "svc_rbf = SVC(kernel='rbf', probability=True)\n",
    "\n",
    "svc_linear.fit(X_train_scaled, y_train)\n",
    "svc_rbf.fit(X_train_scaled, y_train)\n"
   ]
  },
  {
   "cell_type": "code",
   "execution_count": null,
   "id": "318a6873",
   "metadata": {},
   "outputs": [],
   "source": [
    "#Predictions\n",
    "y_pred_l1 = log_reg_l1.predict(X_test_scaled)\n",
    "y_pred_l2 = log_reg_l2.predict(X_test_scaled)\n",
    "y_pred_svm_linear = svc_linear.predict(X_test_scaled)\n",
    "y_pred_svm_rbf = svc_rbf.predict(X_test_scaled)\n",
    "\n",
    "#Evaluation \n",
    "def evaluate_model(model, X_test, y_test, y_pred):\n",
    "    report = classification_report(y_test, y_pred, output_dict=True)\n",
    "    auc = roc_auc_score(y_test, model.predict_proba(X_test)[:, 1])\n",
    "    return {\n",
    "        \"Accuracy\": report[\"accuracy\"],\n",
    "        \"Precision\": report[\"1\"][\"precision\"],\n",
    "        \"Recall\": report[\"1\"][\"recall\"],\n",
    "        \"F1-Score\": report[\"1\"][\"f1-score\"],\n",
    "        \"ROC AUC\": auc\n",
    "    }\n",
    "\n",
    "results = {\n",
    "    \"LogReg_L1\": evaluate_model(log_reg_l1, X_test_scaled, y_test, y_pred_l1),\n",
    "    \"LogReg_L2\": evaluate_model(log_reg_l2, X_test_scaled, y_test, y_pred_l2),\n",
    "    \"SVM_Linear\": evaluate_model(svc_linear, X_test_scaled, y_test, y_pred_svm_linear),\n",
    "    \"SVM_RBF\": evaluate_model(svc_rbf, X_test_scaled, y_test, y_pred_svm_rbf),\n",
    "}\n",
    "\n",
    "pd.DataFrame(results).T\n"
   ]
  },
  {
   "cell_type": "code",
   "execution_count": null,
   "id": "1f3ad574",
   "metadata": {},
   "outputs": [],
   "source": [
    "\n",
    "from sklearn.metrics import ConfusionMatrixDisplay\n",
    "\n",
    "#Ploting confusion matrices\n",
    "models = {\n",
    "    \"Logistic Regression L1\": (log_reg_l1, y_pred_l1),\n",
    "    \"Logistic Regression L2\": (log_reg_l2, y_pred_l2),\n",
    "    \"SVM Linear\": (svc_linear, y_pred_svm_linear),\n",
    "    \"SVM RBF\": (svc_rbf, y_pred_svm_rbf),\n",
    "}\n",
    "\n",
    "for name, (model, y_pred) in models.items():\n",
    "    disp = ConfusionMatrixDisplay.from_predictions(y_test, y_pred, display_labels=[\"Benign\", \"Malignant\"])\n",
    "    plt.title(f\"Confusion Matrix - {name}\")\n",
    "    plt.grid(False)\n",
    "    plt.show()\n"
   ]
  },
  {
   "cell_type": "code",
   "execution_count": null,
   "id": "71a69457",
   "metadata": {},
   "outputs": [],
   "source": [
    "\n",
    "#L1 Coefficient Analysis\n",
    "importance = np.abs(log_reg_l1.coef_[0])\n",
    "features = X.columns\n",
    "sorted_idx = np.argsort(importance)[::-1]\n",
    "\n",
    "plt.figure(figsize=(10, 6))\n",
    "plt.barh(range(len(sorted_idx[:10])), importance[sorted_idx[:10]], align='center')\n",
    "plt.yticks(range(len(sorted_idx[:10])), features[sorted_idx[:10]])\n",
    "plt.xlabel(\"Coefficient Magnitude\")\n",
    "plt.title(\"Top 10 Important Features (L1 Regularized Logistic Regression)\")\n",
    "plt.gca().invert_yaxis()\n",
    "plt.show()\n"
   ]
  },
  {
   "cell_type": "code",
   "execution_count": null,
   "id": "b608f039",
   "metadata": {},
   "outputs": [],
   "source": [
    "#Ploting ROC Curves\n",
    "plt.figure(figsize=(10, 7))\n",
    "RocCurveDisplay.from_estimator(log_reg_l1, X_test_scaled, y_test, name=\"LogReg L1\")\n",
    "RocCurveDisplay.from_estimator(log_reg_l2, X_test_scaled, y_test, name=\"LogReg L2\")\n",
    "RocCurveDisplay.from_estimator(svc_linear, X_test_scaled, y_test, name=\"SVM Linear\")\n",
    "RocCurveDisplay.from_estimator(svc_rbf, X_test_scaled, y_test, name=\"SVM RBF\")\n",
    "plt.title(\"ROC Curve Comparison\")\n",
    "plt.grid(True)\n",
    "plt.show()\n"
   ]
  }
 ],
 "metadata": {
  "language_info": {
   "name": "python"
  }
 },
 "nbformat": 4,
 "nbformat_minor": 5
}
